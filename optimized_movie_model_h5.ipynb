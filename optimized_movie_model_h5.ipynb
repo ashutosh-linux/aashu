{
  "nbformat": 4,
  "nbformat_minor": 0,
  "metadata": {
    "colab": {
      "provenance": [],
      "authorship_tag": "ABX9TyPKFShxLHKIZZ4Y7qyyG2ri",
      "include_colab_link": true
    },
    "kernelspec": {
      "name": "python3",
      "display_name": "Python 3"
    },
    "language_info": {
      "name": "python"
    }
  },
  "cells": [
    {
      "cell_type": "markdown",
      "metadata": {
        "id": "view-in-github",
        "colab_type": "text"
      },
      "source": [
        "<a href=\"https://colab.research.google.com/github/ashutosh-linux/aashu/blob/main/optimized_movie_model_h5.ipynb\" target=\"_parent\"><img src=\"https://colab.research.google.com/assets/colab-badge.svg\" alt=\"Open In Colab\"/></a>"
      ]
    },
    {
      "cell_type": "code",
      "execution_count": 1,
      "metadata": {
        "id": "8JoqOWI-DbDB"
      },
      "outputs": [],
      "source": [
        "import tensorflow as tf\n",
        "from tensorflow.keras.layers import Input, Dense, Conv2DTranspose, BatchNormalization, ReLU, Reshape, Dropout\n",
        "from tensorflow.keras.models import Model\n",
        "import numpy as np\n",
        "import pickle\n",
        "from tensorflow.keras.preprocessing.text import Tokenizer\n",
        "from tensorflow.keras.preprocessing.sequence import pad_sequences\n",
        "\n",
        "# ===== Prepare Sample Training Data =====\n",
        "sample_texts = [\n",
        "    \"Action movie about a hero saving the city\",\n",
        "    \"Sci-Fi thriller set in space\",\n",
        "    \"Romantic drama with deep emotions\",\n",
        "    \"Horror film about haunted houses\",\n",
        "    \"Comedy featuring hilarious moments\"\n",
        "]\n",
        "\n",
        "# Tokenize text input\n",
        "vocab_size = 5000\n",
        "tokenizer = Tokenizer(num_words=vocab_size, oov_token=\"<OOV>\")\n",
        "tokenizer.fit_on_texts(sample_texts)\n",
        "\n",
        "# Save tokenizer\n",
        "with open(\"tokenizer.pkl\", \"wb\") as f:\n",
        "    pickle.dump(tokenizer, f)\n",
        "\n",
        "# Convert text to sequences\n",
        "X_train = pad_sequences(tokenizer.texts_to_sequences(sample_texts), maxlen=50, padding='post')\n",
        "\n",
        "# Generate random video outputs for training (64x64 frames)\n",
        "y_train = np.random.rand(len(X_train), 64, 64, 3)\n",
        "\n",
        "# ===== Build AI Model =====\n",
        "def build_video_generator(latent_dim=256):\n",
        "    noise_input = Input(shape=(latent_dim,))\n",
        "    x = Dense(8*8*512, activation='relu')(noise_input)\n",
        "    x = Reshape((8, 8, 512))(x)\n",
        "\n",
        "    x = Conv2DTranspose(256, kernel_size=3, strides=2, padding='same')(x)\n",
        "    x = BatchNormalization()(x)\n",
        "    x = ReLU()(x)\n",
        "    x = Dropout(0.3)(x)\n"
      ]
    }
  ]
}